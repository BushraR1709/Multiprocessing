{
 "cells": [
  {
   "cell_type": "markdown",
   "id": "eda3b8de-da4e-4f59-b6a3-33fa785e7b6e",
   "metadata": {},
   "source": [
    "Q1. What is multiprocessing in python? Why is it useful?"
   ]
  },
  {
   "cell_type": "code",
   "execution_count": 2,
   "id": "50ac2451-d914-4a8c-857b-0338f2d054eb",
   "metadata": {},
   "outputs": [],
   "source": [
    "# Multiprocessing refers to the ability of a system to support more than one processor at the same time. \n",
    "# Applications in a multiprocessing system are broken to smaller routines that run independently. \n",
    "# The operating system allocates these threads to the processors improving performance of the system.\n",
    "\n",
    "# Multiprocessing is useful because it allows us to perform multiple tasks in parallel.\n",
    "# Multiprocessing can be used to build distributed systems where multiple processes run on different machines and communicate with\n",
    "# each other to solve complex problems."
   ]
  },
  {
   "cell_type": "markdown",
   "id": "06a99beb-17f0-4aab-912b-a6620bef746c",
   "metadata": {},
   "source": [
    "Q2. What are the differences between multiprocessing and multithreading?"
   ]
  },
  {
   "cell_type": "code",
   "execution_count": 4,
   "id": "0b469b1b-031f-46ef-b19c-f93c311914c0",
   "metadata": {},
   "outputs": [],
   "source": [
    "# Multiprocessing: \n",
    "# In multiprocessing, multiple processes run independently and have their own memory space. \n",
    "# Each process has its own Python interpreter and operates as a separate program. Processes do not share memory by default.\n",
    "# Multiprocessing provides true parallelism by running processes simultaneously on multiple CPU cores.\n",
    "# Multiprocessing: Provides strong isolation between processes. Each process has its own memory space, so errors in one process typically \n",
    "# do not affect others.\n",
    "\n",
    "# Multithreading: \n",
    "# In multithreading, multiple threads run within the same process and share the same memory space. \n",
    "# Threads are lightweight compared to processes and are considered subunits of a process.\n",
    "# Multithreading achieves concurrency, not parallelism, as threads share the same CPU core and take turns executing. \n",
    "# Multithreading: Threads within the same process share memory, making it possible for one thread's errors to affect the entire process."
   ]
  },
  {
   "cell_type": "markdown",
   "id": "65d546d2-5e53-44c6-9a2b-f010688b2c04",
   "metadata": {},
   "source": [
    "Q3. Write a python code to create a process using the multiprocessing module."
   ]
  },
  {
   "cell_type": "code",
   "execution_count": 2,
   "id": "0f19237d-fa96-49b0-b591-feffcf4fd9d8",
   "metadata": {},
   "outputs": [],
   "source": [
    "import multiprocessing"
   ]
  },
  {
   "cell_type": "code",
   "execution_count": 13,
   "id": "5a2fd7da-5231-4ca6-bb4f-3f21cc57b3e1",
   "metadata": {},
   "outputs": [
    {
     "name": "stdout",
     "output_type": "stream",
     "text": [
      "Adding 1 to the given number\n",
      "6\n"
     ]
    }
   ],
   "source": [
    "def code(n):\n",
    "    print(n+1) \n",
    "\n",
    "if __name__=='__main__':\n",
    "    m  = multiprocessing.Process(target=code,args=[5])\n",
    "    print('Adding 1 to the given number')\n",
    "    m.start()\n",
    "    m.join()"
   ]
  },
  {
   "cell_type": "markdown",
   "id": "568f23cd-ec93-487a-8400-125d03f3f264",
   "metadata": {},
   "source": [
    "Q4. What is a multiprocessing pool in python? Why is it used?"
   ]
  },
  {
   "cell_type": "code",
   "execution_count": 14,
   "id": "87f4f4b8-b793-4a66-9f6f-356fd9de6c03",
   "metadata": {},
   "outputs": [],
   "source": [
    "# The Python Multiprocessing Pool class allows us to create and manage process pools in Python.\n",
    "# The pool is a class in the multiprocessing module that distributes the tasks to the available processors in First In First Out manner.\n",
    "# Multiprocessing pools allow us to parallelize the execution of functions or tasks.\n",
    "# Multiprocessing pools are particularly useful when you need to process large amounts of data or perform CPU-intensive tasks efficiently \n",
    "# by distributing the work across multiple processes."
   ]
  },
  {
   "cell_type": "markdown",
   "id": "591f97d5-1ccd-45be-baac-228d89c678ba",
   "metadata": {},
   "source": [
    "Q5. How can we create a pool of worker processes in python using the multiprocessing module?"
   ]
  },
  {
   "cell_type": "code",
   "execution_count": 21,
   "id": "1dff0700-aba0-477c-9b1f-0a9533c6528a",
   "metadata": {},
   "outputs": [
    {
     "name": "stdout",
     "output_type": "stream",
     "text": [
      "Results: [2, 4, 6, 8, 10]\n"
     ]
    }
   ],
   "source": [
    "# We can create a pool of worker processes in Python using the multiprocessing module by using the multiprocessing.Pool class.\n",
    "\n",
    "import multiprocessing\n",
    "\n",
    "# Define a function that will be executed by the worker processes\n",
    "def worker_function(x):\n",
    "    return x * 2\n",
    "\n",
    "if __name__ == \"__main__\":\n",
    "    pool = multiprocessing.Pool(processes=4)\n",
    "    results = pool.map(worker_function,[1, 2, 3, 4, 5] )\n",
    "\n",
    "    pool.close()\n",
    "    pool.join()\n",
    "    \n",
    "    # Printing the results\n",
    "    print(\"Results:\", results)\n",
    "\n"
   ]
  },
  {
   "cell_type": "markdown",
   "id": "e913efe5-4e33-4c1b-b2f0-7199b2bd4335",
   "metadata": {},
   "source": [
    "Q6. Write a python program to create 4 processes, each process should print a different number using the\n",
    "multiprocessing module in python."
   ]
  },
  {
   "cell_type": "code",
   "execution_count": 18,
   "id": "d51addc9-8f8d-49bd-8823-74f0e8b0fadc",
   "metadata": {},
   "outputs": [
    {
     "name": "stdout",
     "output_type": "stream",
     "text": [
      "Process 1: 1\n",
      "Process 2: 2\n",
      "Process 3: 3\n",
      "Process 4: 4\n",
      "All processes have finished.\n"
     ]
    }
   ],
   "source": [
    "import multiprocessing\n",
    "\n",
    "# Function to print a number\n",
    "def num(number):\n",
    "    print(f\"Process {number}: {number}\")\n",
    "\n",
    "if __name__ == \"__main__\":\n",
    "    # Create a list of numbers\n",
    "    numbers = [1, 2, 3, 4]\n",
    "\n",
    "    # Create and start a separate process for each number\n",
    "    processes = []\n",
    "    for number in numbers:\n",
    "        process = multiprocessing.Process(target=num, args=(number,))\n",
    "        processes.append(process)\n",
    "        process.start()\n",
    "\n",
    "    # Wait for all processes to finish\n",
    "    for process in processes:\n",
    "        process.join()\n",
    "\n",
    "    print(\"All processes have finished.\")\n"
   ]
  },
  {
   "cell_type": "code",
   "execution_count": null,
   "id": "ca52506b-86ac-46a9-9b18-b3d5506a63b5",
   "metadata": {},
   "outputs": [],
   "source": []
  }
 ],
 "metadata": {
  "kernelspec": {
   "display_name": "Python 3 (ipykernel)",
   "language": "python",
   "name": "python3"
  },
  "language_info": {
   "codemirror_mode": {
    "name": "ipython",
    "version": 3
   },
   "file_extension": ".py",
   "mimetype": "text/x-python",
   "name": "python",
   "nbconvert_exporter": "python",
   "pygments_lexer": "ipython3",
   "version": "3.10.8"
  }
 },
 "nbformat": 4,
 "nbformat_minor": 5
}
